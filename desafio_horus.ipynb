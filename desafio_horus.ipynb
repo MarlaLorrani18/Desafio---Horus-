{
  "cells": [
    {
      "cell_type": "markdown",
      "metadata": {
        "id": "view-in-github",
        "colab_type": "text"
      },
      "source": [
        "<a href=\"https://colab.research.google.com/github/MarlaLorrani18/Desafio---Horus-/blob/main/desafio_horus.ipynb\" target=\"_parent\"><img src=\"https://colab.research.google.com/assets/colab-badge.svg\" alt=\"Open In Colab\"/></a>"
      ]
    },
    {
      "cell_type": "markdown",
      "source": [],
      "metadata": {
        "id": "JyPLTdcdARse"
      }
    },
    {
      "cell_type": "code",
      "source": [
        "# Pacotes\n",
        "import pandas as pd\n",
        "import seaborn as srn\n",
        "import numpy as np"
      ],
      "metadata": {
        "id": "fbmYCJePB6DB"
      },
      "execution_count": null,
      "outputs": []
    },
    {
      "cell_type": "code",
      "source": [
        "#importando a base de dados\n",
        "desafio = pd.read_excel(\"dados_desafio.xlsx\")"
      ],
      "metadata": {
        "id": "us1io3TICWbh"
      },
      "execution_count": null,
      "outputs": []
    },
    {
      "cell_type": "markdown",
      "source": [
        "A base de dados contém 27 variáveis e 117.171 pedidos relacionadas a informações de vendas de produtos de uma determinada empresa em 2016, 2017 e 2018."
      ],
      "metadata": {
        "id": "z-2PqKgDC47P"
      }
    },
    {
      "cell_type": "code",
      "source": [
        "#tamanho da base de dados\n",
        "desafio.shape"
      ],
      "metadata": {
        "id": "d4dvlDt7CYE0",
        "outputId": "0e2e4362-fa91-47c1-a21b-b5ef4886d496",
        "colab": {
          "base_uri": "https://localhost:8080/"
        }
      },
      "execution_count": null,
      "outputs": [
        {
          "output_type": "execute_result",
          "data": {
            "text/plain": [
              "(117171, 28)"
            ]
          },
          "metadata": {},
          "execution_count": 8
        }
      ]
    },
    {
      "cell_type": "markdown",
      "source": [
        "Analisando os clientes, temos que no período estudado a empresa atendeu a 97.802 clientes diferentes."
      ],
      "metadata": {
        "id": "u99OtAZCEAys"
      }
    },
    {
      "cell_type": "code",
      "source": [
        "len(desafio[\"cliente_id\"].unique())"
      ],
      "metadata": {
        "id": "UbDbk8aVDXvw",
        "outputId": "44642ec0-4bda-4321-ebc5-17bb8d9bd235",
        "colab": {
          "base_uri": "https://localhost:8080/"
        }
      },
      "execution_count": null,
      "outputs": [
        {
          "output_type": "execute_result",
          "data": {
            "text/plain": [
              "97802"
            ]
          },
          "metadata": {},
          "execution_count": 11
        }
      ]
    },
    {
      "cell_type": "markdown",
      "source": [
        "A empresa teve 114.705 pedidos entregues, 1.164 pedidos enviados, 553 cancelados, 370 em processamento, 369 faturados, 7 indisponíveis e 3 aprovados."
      ],
      "metadata": {
        "id": "EbVNocRxPuQN"
      }
    },
    {
      "cell_type": "code",
      "source": [
        "status_pedido_agrupado = desafio.groupby(['status_pedido']).size()\n",
        "status_pedido_agrupado.sort_values(ascending=False)"
      ],
      "metadata": {
        "id": "d9abfaVrF1nj",
        "outputId": "4c73036a-3f2f-4ff2-c27c-b5b26aee761c",
        "colab": {
          "base_uri": "https://localhost:8080/"
        }
      },
      "execution_count": null,
      "outputs": [
        {
          "output_type": "execute_result",
          "data": {
            "text/plain": [
              "status_pedido\n",
              "delivered      114705\n",
              "shipped          1164\n",
              "canceled          553\n",
              "processing        370\n",
              "invoiced          369\n",
              "unavailable         7\n",
              "approved            3\n",
              "dtype: int64"
            ]
          },
          "metadata": {},
          "execution_count": 41
        }
      ]
    },
    {
      "cell_type": "markdown",
      "source": [
        "Analisando o preço dos produtos vendidos, temos que: o preço mínimo foi de 0,85, o preço máximo de 6.735,00. O preço médio é de 120,52, enquanto a mediana tem um valor de 74,90, indicando uma assimetria positiva, ou seja, há mais produtos vendidos com preços muito altos, puxando a média para cima. 25% dos itens vendidos tinham preços de até 39,90 e 75% preços até 134,20."
      ],
      "metadata": {
        "id": "mzI0hbr7JuEj"
      }
    },
    {
      "cell_type": "code",
      "source": [
        "desafio['preco'].describe().round(2)"
      ],
      "metadata": {
        "id": "UVkFC2bUJFxO",
        "outputId": "3b858721-ec7a-4531-c90e-99161948e35a",
        "colab": {
          "base_uri": "https://localhost:8080/"
        }
      },
      "execution_count": null,
      "outputs": [
        {
          "output_type": "execute_result",
          "data": {
            "text/plain": [
              "count    117171.00\n",
              "mean        120.52\n",
              "std         183.02\n",
              "min           0.85\n",
              "25%          39.90\n",
              "50%          74.90\n",
              "75%         134.20\n",
              "max        6735.00\n",
              "Name: preco, dtype: float64"
            ]
          },
          "metadata": {},
          "execution_count": 18
        }
      ]
    },
    {
      "cell_type": "markdown",
      "source": [
        "O boxplot abaixo, além das interpretações dadas acima, expõe uma quantidade significativa de outliers."
      ],
      "metadata": {
        "id": "sCqTVWj7L4lV"
      }
    },
    {
      "cell_type": "code",
      "source": [
        "srn.boxplot(desafio['preco']).set_title('preco')"
      ],
      "metadata": {
        "id": "cdNIt3pzLMf8",
        "outputId": "ea09c5f5-1184-451a-8e05-097b9a43a7fd",
        "colab": {
          "base_uri": "https://localhost:8080/",
          "height": 469
        }
      },
      "execution_count": null,
      "outputs": [
        {
          "output_type": "execute_result",
          "data": {
            "text/plain": [
              "Text(0.5, 1.0, 'preco')"
            ]
          },
          "metadata": {},
          "execution_count": 23
        },
        {
          "output_type": "display_data",
          "data": {
            "text/plain": [
              "<Figure size 640x480 with 1 Axes>"
            ],
            "image/png": "[encoded data removed]"
          },
          "metadata": {}
        }
      ]
    },
    {
      "cell_type": "markdown",
      "source": [
        "Quanto ao frete da entrega, o valor mínimo foi de 0,00 (entrega grátis), o máximo de 409,68, o valor médio do frete foi de 20,03, enquanto a médiana foi de 16,28, também indicando uma assimetria positiva, ou seja, fretes mais altos puxando a média para cima. 25% dos fretes custavam até 13,08, e 75% até 21,18."
      ],
      "metadata": {
        "id": "ZzT-hqAwMi-e"
      }
    },
    {
      "cell_type": "code",
      "source": [
        "desafio['valor_frete'].describe().round(2)"
      ],
      "metadata": {
        "id": "DVW3kbnXMRX5",
        "outputId": "25b9e8d7-d468-4419-eeb9-2cbc12ddde12",
        "colab": {
          "base_uri": "https://localhost:8080/"
        }
      },
      "execution_count": null,
      "outputs": [
        {
          "output_type": "execute_result",
          "data": {
            "text/plain": [
              "count    117171.00\n",
              "mean         20.03\n",
              "std          15.83\n",
              "min           0.00\n",
              "25%          13.08\n",
              "50%          16.28\n",
              "75%          21.18\n",
              "max         409.68\n",
              "Name: valor_frete, dtype: float64"
            ]
          },
          "metadata": {},
          "execution_count": 24
        }
      ]
    },
    {
      "cell_type": "markdown",
      "source": [
        "Em relação ao valor do frete, também é possível identificar uma quantidade significativa de outliers, além das interpretações acima."
      ],
      "metadata": {
        "id": "L9Vo111ON2y_"
      }
    },
    {
      "cell_type": "code",
      "source": [
        "srn.boxplot(desafio['valor_frete']).set_title('valor_frete')"
      ],
      "metadata": {
        "id": "3YXuUtQENHlu",
        "outputId": "ac20c1f9-4dc0-4883-f797-a164877cfea5",
        "colab": {
          "base_uri": "https://localhost:8080/",
          "height": 469
        }
      },
      "execution_count": null,
      "outputs": [
        {
          "output_type": "execute_result",
          "data": {
            "text/plain": [
              "Text(0.5, 1.0, 'valor_frete')"
            ]
          },
          "metadata": {},
          "execution_count": 27
        },
        {
          "output_type": "display_data",
          "data": {
            "text/plain": [
              "<Figure size 640x480 with 1 Axes>"
            ],
            "image/png": "[encoded data removed]"
          },
          "metadata": {}
        }
      ]
    },
    {
      "cell_type": "markdown",
      "source": [
        "O tipo de pagamento mais frequente foi o cartão de crédito, seguido pelo boleto, voucher e cartão de débito."
      ],
      "metadata": {
        "id": "sDcgiE2eOnls"
      }
    },
    {
      "cell_type": "code",
      "source": [
        "tipo_pagamento_agrupado = desafio.groupby(['tipo_pagamento']).size()\n",
        "tipo_pagamento_agrupado.sort_values(ascending=False)"
      ],
      "metadata": {
        "id": "w4VmrlE3OPK-",
        "outputId": "975aec03-65a7-4a50-c46d-fdb5b14b9376",
        "colab": {
          "base_uri": "https://localhost:8080/"
        }
      },
      "execution_count": null,
      "outputs": [
        {
          "output_type": "execute_result",
          "data": {
            "text/plain": [
              "tipo_pagamento\n",
              "credit_card    86406\n",
              "boleto         22802\n",
              "voucher         6271\n",
              "debit_card      1692\n",
              "dtype: int64"
            ]
          },
          "metadata": {},
          "execution_count": 36
        }
      ]
    },
    {
      "cell_type": "code",
      "source": [
        "tipo_pagamento_agrupado.plot.bar(color = ['gray'])"
      ],
      "metadata": {
        "id": "Vu2nxxscOXc4",
        "outputId": "bc0d8191-aca9-4e35-ec41-42dc4c23faf9",
        "colab": {
          "base_uri": "https://localhost:8080/",
          "height": 530
        }
      },
      "execution_count": null,
      "outputs": [
        {
          "output_type": "execute_result",
          "data": {
            "text/plain": [
              "<Axes: xlabel='tipo_pagamento'>"
            ]
          },
          "metadata": {},
          "execution_count": 38
        },
        {
          "output_type": "display_data",
          "data": {
            "text/plain": [
              "<Figure size 640x480 with 1 Axes>"
            ],
            "image/png": "[encoded data removed]"
          },
          "metadata": {}
        }
      ]
    },
    {
      "cell_type": "markdown",
      "source": [
        "71,50% dos pedidos tiveram pagamentos de 1 a 3 prestações."
      ],
      "metadata": {
        "id": "KBfcHIGWQL6j"
      }
    },
    {
      "cell_type": "code",
      "source": [
        "pagamento_prestacoes_agrupado = desafio.groupby(['pagamento_prestacoes']).size()\n",
        "pagamento_prestacoes_agrupado.sort_values(ascending=False)"
      ],
      "metadata": {
        "id": "Qr5dOUx3OxWk",
        "outputId": "bc401965-0fcc-42bb-9cef-9612851ec548",
        "colab": {
          "base_uri": "https://localhost:8080/"
        }
      },
      "execution_count": null,
      "outputs": [
        {
          "output_type": "execute_result",
          "data": {
            "text/plain": [
              "pagamento_prestacoes\n",
              "1     58429\n",
              "2     13631\n",
              "3     11712\n",
              "4      7945\n",
              "10     6830\n",
              "5      5998\n",
              "8      5058\n",
              "6      4607\n",
              "7      1819\n",
              "9       713\n",
              "12      164\n",
              "15       91\n",
              "18       38\n",
              "24       34\n",
              "11       22\n",
              "20       20\n",
              "13       19\n",
              "14       16\n",
              "16        7\n",
              "17        7\n",
              "21        6\n",
              "0         3\n",
              "22        1\n",
              "23        1\n",
              "dtype: int64"
            ]
          },
          "metadata": {},
          "execution_count": 35
        }
      ]
    },
    {
      "cell_type": "markdown",
      "source": [
        "O valor do pagamento variou de 0,00 até 13.664,08, em média foi de 172,00, e 50% dos clientes pagaram até 108,10. Também apresentando assimetria positiva."
      ],
      "metadata": {
        "id": "O1K29rAuQ7Fs"
      }
    },
    {
      "cell_type": "code",
      "source": [
        "desafio['pagamento_valor'].describe().round(2)"
      ],
      "metadata": {
        "id": "B14NbgW3QlUC"
      },
      "execution_count": null,
      "outputs": []
    },
    {
      "cell_type": "markdown",
      "source": [
        "Analisando visualmente, também é possível indicar a presença de outliers."
      ],
      "metadata": {
        "id": "TTN4npbZRb3h"
      }
    },
    {
      "cell_type": "code",
      "source": [
        "srn.boxplot(desafio['pagamento_valor']).set_title('pagamento_valor')"
      ],
      "metadata": {
        "id": "bafD85jSRUM4",
        "outputId": "f0f854da-0cbb-4fe7-bfe1-aa5ab799b35b",
        "colab": {
          "base_uri": "https://localhost:8080/",
          "height": 469
        }
      },
      "execution_count": null,
      "outputs": [
        {
          "output_type": "execute_result",
          "data": {
            "text/plain": [
              "Text(0.5, 1.0, 'pagamento_valor')"
            ]
          },
          "metadata": {},
          "execution_count": 127
        },
        {
          "output_type": "display_data",
          "data": {
            "text/plain": [
              "<Figure size 640x480 with 1 Axes>"
            ],
            "image/png": "[encoded data removed]"
          },
          "metadata": {}
        }
      ]
    },
    {
      "cell_type": "markdown",
      "source": [
        "Quanto ao score de avaliação, 66.192 clientes avaliaram com nota 5, 22.254 com nota 4 e 28.725 com notas abaixo de 4."
      ],
      "metadata": {
        "id": "cGmuloKpRtTG"
      }
    },
    {
      "cell_type": "code",
      "source": [
        "score_avaliacao_agrupado = desafio.groupby(['score_avaliacao']).size()\n",
        "score_avaliacao_agrupado.sort_values(ascending=False)"
      ],
      "metadata": {
        "id": "ridMIbJHRj4n"
      },
      "execution_count": null,
      "outputs": []
    },
    {
      "cell_type": "code",
      "source": [
        "score_avaliacao_agrupado.plot.bar(color = 'gray')"
      ],
      "metadata": {
        "id": "sE1lfd6xR9zP"
      },
      "execution_count": null,
      "outputs": []
    },
    {
      "cell_type": "markdown",
      "source": [
        "Os clientes que mais compraram são dos estado de São Paulo (49.457), seguido por clientes do Rio de Janeiro (15.192) e Minas Gerais (13.597). Os cinco estados com menos compras foram: Rondônia, Amazonas, Acre, Amapá e Roraima, todos da região Norte do país."
      ],
      "metadata": {
        "id": "wgiPIUqKS5Mk"
      }
    },
    {
      "cell_type": "code",
      "source": [
        "estado_cliente_agrupado = desafio.groupby(['estado_cliente']).size()\n",
        "estado_cliente_agrupado.sort_values(ascending=False)"
      ],
      "metadata": {
        "id": "kjBsusv3Sk8A"
      },
      "execution_count": null,
      "outputs": []
    },
    {
      "cell_type": "markdown",
      "source": [
        "Em relação ao estado do vendedor, as maiores frequências estão no estado de São Paulo, Minas Gerais e Paraná. E as menores em Pará, Amazonas e Acre, ainda estados da Região Norte."
      ],
      "metadata": {
        "id": "fnvYTwuRUSUh"
      }
    },
    {
      "cell_type": "code",
      "source": [
        "estado_vendedor_agrupado = desafio.groupby(['estado_vendedor']).size()\n",
        "estado_vendedor_agrupado.sort_values(ascending=False)"
      ],
      "metadata": {
        "id": "eG2P7JvbUBDi"
      },
      "execution_count": null,
      "outputs": []
    },
    {
      "cell_type": "markdown",
      "source": [
        "Abaixo estão, em ordem de avaliação do pedido, os vendedores que apresentaram as notas mais altas até os vendedores com as notas mais baixas."
      ],
      "metadata": {
        "id": "1ydBoFwPfenq"
      }
    },
    {
      "cell_type": "code",
      "source": [
        "novo_banco = desafio.groupby(['id_vendedor']).agg({'score_avaliacao': 'mean'}).reset_index()"
      ],
      "metadata": {
        "id": "UruyAzSMdjW2"
      },
      "execution_count": null,
      "outputs": []
    },
    {
      "cell_type": "code",
      "source": [
        "novo_banco.sort_values(by = \"score_avaliacao\", ascending=False)"
      ],
      "metadata": {
        "id": "-LMWRo5kfDZq"
      },
      "execution_count": null,
      "outputs": []
    },
    {
      "cell_type": "markdown",
      "source": [
        "Os clientes de São Paulo gastaram na empresa no período estudado 5.434.348,00. Os clientes do estado que menos compraram foram os de Roraima."
      ],
      "metadata": {
        "id": "xkuA2aaoiLKw"
      }
    },
    {
      "cell_type": "code",
      "source": [
        "novo_banco3 = desafio.groupby(['estado_cliente']).agg({'preco': 'sum'}).reset_index()\n",
        "novo_banco3.sort_values(by = \"preco\", ascending=False)"
      ],
      "metadata": {
        "id": "vbEtBgVTfutj"
      },
      "execution_count": null,
      "outputs": []
    },
    {
      "cell_type": "markdown",
      "source": [
        "De acordo com os estados dos vendedores da empresa, São Paulo foi o que apresentou maior faturamento, sendo de 9.071.074,91, e o menor foi o estado do Acre, com um saldo de 267,00."
      ],
      "metadata": {
        "id": "eDuVbPJ4jRPl"
      }
    },
    {
      "cell_type": "code",
      "source": [
        "novo_banco4 = desafio.groupby(['estado_vendedor']).agg({'preco': 'sum'}).reset_index()\n",
        "novo_banco4.sort_values(by = \"preco\", ascending=False)"
      ],
      "metadata": {
        "id": "pTcVSPy2jH3L"
      },
      "execution_count": null,
      "outputs": []
    },
    {
      "cell_type": "markdown",
      "source": [
        "Recategorizando a variável \"categorias\", de acordo com a similaridade dos produtos."
      ],
      "metadata": {
        "id": "0SPY9HHBnq1i"
      }
    },
    {
      "cell_type": "code",
      "source": [
        "# Recategorizando\n",
        "\n",
        "desafio.loc[desafio['categoria'].isin(['alimentos','alimentos_bebidas','bebidas']), 'categorias_2'] = \"alimentos\"\n",
        "desafio.loc[desafio['categoria'].isin(['artes','artes_e_artesanato','artigos_de_festas', 'artigos_de_natal']),\n",
        "            'categorias_2'] = \"artes_decoracao\"\n",
        "desafio.loc[desafio['categoria'].isin(['consoles_games',\n",
        "                                       'eletronicos', 'informatica_acessorios',\n",
        "                                       'pc_gamer', 'pcs', 'tablets_impressao_imagem',\n",
        "                                       'telefonia', ]), 'categorias_2'] = \"eletronicos\"\n",
        "desafio.loc[desafio['categoria'].isin(['audio', 'cds_dvds_musicais', 'dvds_blu_ray', 'musica']), 'categorias_2'] = \"musica\"\n",
        "desafio.loc[desafio['categoria'].isin(['casa_construcao', 'construcao_ferramentas_construcao',\n",
        "                                       'construcao_ferramentas_ferramentas', 'construcao_ferramentas_iluminacao',\n",
        "                                       'construcao_ferramentas_jardim', 'construcao_ferramentas_seguranca',\n",
        "                                       'ferramentas_jardim']), 'categorias_2'] = \"construcao_ferramentas\"\n",
        "desafio.loc[desafio['categoria'].isin(['eletrodomesticos','eletrodomesticos_2','eletroportateis',\n",
        "                                       'portateis_casa_forno_e_cafe', 'portateis_cozinha_e_preparadores_de_alimentos',\n",
        "                                       'utilidades_domesticas']), 'categorias_2'] = \"casa_eletrodomesticos\"\n",
        "desafio.loc[desafio['categoria'].isin(['beleza_saude','fashion_bolsas_e_acessorios','fashion_calcados',\n",
        "                                       'fashion_esporte', 'fashion_roupa_feminina', 'fashion_roupa_infanto_juvenil',\n",
        "                                       'fashion_roupa_masculina', 'fashion_underwear_e_moda_praia',\n",
        "                                       'fraldas_higiene', 'perfumaria']), 'categorias_2'] = \"beleza_higiene\"\n",
        "desafio.loc[desafio['categoria'].isin(['alimentos','alimentos_bebidas','bebidas']), 'categorias_2'] = \"alimentos\"\n",
        "desafio.loc[desafio['categoria'].isin(['casa_conforto','casa_conforto_2', 'moveis_colchao_e_estofado',\n",
        "                                       'moveis_cozinha_area_de_servico_jantar_e_jardim',\n",
        "                                       'moveis_decoracao', 'moveis_escritorio', 'moveis_quarto', 'moveis_sala']),\n",
        "            'categorias_2'] = \"moveis_casa\"\n",
        "desafio.loc[desafio['categoria'].isin(['agro_industria_e_comercio','cine_foto','climatizacao',\n",
        "                                       'flores', 'industria_comercio_e_negocios', 'instrumentos_musicais',\n",
        "                                       'la_cuisine', 'malas_acessorios', 'market_place', 'seguros_e_servicos',\n",
        "                                       'sinalizacao_e_seguranca', '']), 'categorias_2'] = \"outros\"\n",
        "desafio.loc[desafio['categoria'].isin(['livros_importados','livros_interesse_geral','livros_tecnicos']),\n",
        "            'categorias_2'] = \"livros\"\n",
        "desafio.loc[desafio['categoria'].isin(['automotivo']), 'categorias_2'] = \"automotivo\"\n",
        "desafio.loc[desafio['categoria'].isin(['bebes']), 'categorias_2'] = \"bebes\"\n",
        "desafio.loc[desafio['categoria'].isin(['brinquedos']), 'categorias_2'] = \"brinquedos\"\n",
        "desafio.loc[desafio['categoria'].isin(['cool_stuff']), 'categorias_2'] = \"cool_stuff\"\n",
        "desafio.loc[desafio['categoria'].isin(['esporte_lazer']), 'categorias_2'] = \"esporte_lazer\"\n",
        "desafio.loc[desafio['categoria'].isin(['papelaria']), 'categorias_2'] = \"papelaria\"\n",
        "desafio.loc[desafio['categoria'].isin(['pet_shop']), 'categorias_2'] = \"pet_shop\"\n",
        "desafio.loc[desafio['categoria'].isin(['relogios_presentes']), 'categorias_2'] = \"relogios_presentes\"\n",
        "desafio.loc[desafio['categoria'].isin(['cama_mesa_banho']), 'categorias_2'] = \"cama_mesa_banho\""
      ],
      "metadata": {
        "id": "oLNN0sfLVwVV"
      },
      "execution_count": null,
      "outputs": []
    },
    {
      "cell_type": "code",
      "source": [
        "categorias_2_agrupado = desafio.groupby(['categorias_2']).size()\n",
        "categorias_2_agrupado.sort_values(ascending=False)"
      ],
      "metadata": {
        "id": "EpECFVItZSZ4"
      },
      "execution_count": null,
      "outputs": []
    },
    {
      "cell_type": "markdown",
      "source": [
        "Estudando as variáveis de tempo, selecionamos os pedidos com horas completas (com data e horário não nulos). A variável tempo de entrega foi criada com o tempo da entrega estimada menos a hora do pedido."
      ],
      "metadata": {
        "id": "1ad0lXpMoXZ9"
      }
    },
    {
      "cell_type": "code",
      "source": [
        "df_horas = desafio.dropna(subset = ['data_hora_pedido','pedido_aprovado',\n",
        "                               'pedido_com_entregador','pedido_entregue',\n",
        "                               'estimada_entrega'])\n",
        "\n",
        "df_horas['data_hora_pedido'] = pd.to_datetime(df_horas['data_hora_pedido'], format=\"%Y-%m-%d %H:%M:%S\")\n",
        "df_horas['pedido_aprovado'] = pd.to_datetime(df_horas['pedido_aprovado'], format=\"%Y-%m-%d %H:%M:%S\")\n",
        "df_horas['pedido_com_entregador'] = pd.to_datetime(df_horas['pedido_com_entregador'], format=\"%Y-%m-%d %H:%M:%S\")\n",
        "df_horas['pedido_entregue'] = pd.to_datetime(df_horas['pedido_entregue'], format=\"%Y-%m-%d %H:%M:%S\")\n",
        "df_horas['estimada_entrega'] = pd.to_datetime(df_horas['estimada_entrega'], format=\"%Y-%m-%d %H:%M:%S\")\n",
        "\n",
        "df_horas['tempo_de_entrega'] = df_horas['estimada_entrega']-df_horas['data_hora_pedido']\n",
        "\n"
      ],
      "metadata": {
        "id": "zMp-peBzoDKc"
      },
      "execution_count": null,
      "outputs": []
    },
    {
      "cell_type": "markdown",
      "source": [
        "Em relação ao tempo de entrega, foram feitas duas analises com as categorias de produtos, com a variável inicial e com a variável recategorizada. Com as categorias iniciais (tendo um total de 73 divisões), movéis de escritório apresentavam o maior tempo até a entrega, 31 dias, e o menor tempo era da classe de arte e artesanato, 11 dias. Após a recategorização, moveis da casa passaram a ter o meior tempo de entrega, 25 dias, e alimentos, o menor, 20 dias."
      ],
      "metadata": {
        "id": "mxjDJVLbpOv3"
      }
    },
    {
      "cell_type": "code",
      "source": [
        "df_horas[['categoria','tempo_de_entrega']].groupby(by = ['categoria']).mean().sort_values(by = \"tempo_de_entrega\",\n",
        "ascending=False)"
      ],
      "metadata": {
        "id": "MVRzn45bpqlo"
      },
      "execution_count": null,
      "outputs": []
    },
    {
      "cell_type": "code",
      "source": [
        "df_horas[['categorias_2','tempo_de_entrega']].groupby(by = ['categorias_2']).mean().sort_values(by = \"tempo_de_entrega\",\n",
        "ascending=False)"
      ],
      "metadata": {
        "id": "toe4HSHcouDU"
      },
      "execution_count": null,
      "outputs": []
    },
    {
      "cell_type": "markdown",
      "source": [
        "Analisando o preço médio das vendas por categoria, antes da recategorização, a classe de produtos com maior média de preços foi \"pcs\", 1.078,56, e a menor \"casa_conforto_2\". De acordo com a recategorização, \"relogios e presentes\" apresentaram a maior média de 202,20, e a menor média foi da categoria \"Alimentos\", 26,23."
      ],
      "metadata": {
        "id": "9V2X20xUrydG"
      }
    },
    {
      "cell_type": "code",
      "source": [
        "novo_banco5 = desafio.groupby(['categoria']).agg({'preco': 'mean'}).reset_index()\n",
        "novo_banco5.sort_values(by = \"preco\", ascending=False).round(2)"
      ],
      "metadata": {
        "id": "2RdYzfZXtEbm"
      },
      "execution_count": null,
      "outputs": []
    },
    {
      "cell_type": "code",
      "source": [
        "novo_banco6 = desafio.groupby(['categorias_2']).agg({'preco': 'mean'}).reset_index()\n",
        "novo_banco6.sort_values(by = \"preco\", ascending=False).round(2)"
      ],
      "metadata": {
        "id": "-d1__R9srTbf"
      },
      "execution_count": null,
      "outputs": []
    },
    {
      "cell_type": "markdown",
      "source": [
        "Estudando a quantidade de compra de \"pcs\" por estado do cliente, temos que houveram 68 compras por clientes em São Paulo, sendo o estado com maior quantidade, e o estado com menor número de clientes que compraram \"pcs\" foram Acre, Mato Grosso do Sul, Amapá, Amazonas, Tocantins, com 1 compra."
      ],
      "metadata": {
        "id": "vxg649Eqtbh1"
      }
    },
    {
      "cell_type": "code",
      "source": [
        "teste = desafio[desafio[\"categoria\"]==\"pcs\"]\n",
        "teste.groupby(['estado_cliente']).agg({'categoria': 'count'}).sort_values(by = \"categoria\", ascending=False).round(2)"
      ],
      "metadata": {
        "id": "0-TUe9zWtL9j"
      },
      "execution_count": null,
      "outputs": []
    },
    {
      "cell_type": "code",
      "source": [
        "novo_banco8 = desafio.groupby(['categorias_2']).agg({'preco': 'mean'}).reset_index()\n",
        "novo_banco8.sort_values(by = \"preco\", ascending=False).round(2)"
      ],
      "metadata": {
        "id": "T4tmBM0otMjx"
      },
      "execution_count": null,
      "outputs": []
    }
  ],
  "metadata": {
    "colab": {
      "provenance": [],
      "include_colab_link": true
    },
    "kernelspec": {
      "display_name": "Python 3",
      "name": "python3"
    }
  },
  "nbformat": 4,
  "nbformat_minor": 0
}